{
 "cells": [
  {
   "cell_type": "markdown",
   "metadata": {},
   "source": [
    "# Create Elastic Search Pipeline\n",
    "\n",
    "Create and wire containers:\n",
    "* elasticsearch\n",
    "* kibana\n",
    "* filebeats\n",
    "* logstash"
   ]
  },
  {
   "cell_type": "markdown",
   "metadata": {},
   "source": [
    "## Create Elasticsearch Container\n",
    "\n",
    "This section replicates the function of this docker cli command\n",
    "```bash\n",
    "docker run -d -p 9200:9200 -p 9300:9300 \\\n",
    "--network=elastic \\\n",
    "--name=elasticsearch \\\n",
    "-v /Users/lou/Documents/elasticsearch/esdata1:/usr/share/elasticsearch/data \\\n",
    "-e \"node.name=alacrity.local\" \\\n",
    "--restart=unless-stopped docker.elastic.co/elasticsearch/elasticsearch:6.3.2\n",
    "```"
   ]
  },
  {
   "cell_type": "code",
   "execution_count": 4,
   "metadata": {},
   "outputs": [],
   "source": [
    "import docker\n",
    "import socket\n",
    "import uuid\n",
    "client = docker.from_env()"
   ]
  },
  {
   "cell_type": "code",
   "execution_count": 5,
   "metadata": {},
   "outputs": [],
   "source": [
    "# replace these with the appropriate values for your setup\n",
    "# all components in pipeline should match versions\n",
    "es_version = '6.3.2'\n",
    "# configurations and data for docker containers are rooted here\n",
    "docker_root = '/Users/lou/Documents/docker-python-api-elk-provisioning'"
   ]
  },
  {
   "cell_type": "code",
   "execution_count": 6,
   "metadata": {},
   "outputs": [
    {
     "data": {
      "text/plain": [
       "'elasticsearch-43d53497-e397-44fe-8e3f-6d00ded827f3'"
      ]
     },
     "execution_count": 6,
     "metadata": {},
     "output_type": "execute_result"
    }
   ],
   "source": [
    "# we need to create a random elastic search container name since we\n",
    "# can't currently directly create an alias. See https://github.com/docker/docker-py/issues/1571\n",
    "es_container_name=\"elasticsearch-{}\".format(str(uuid.uuid4()))\n",
    "es_container_name"
   ]
  },
  {
   "cell_type": "code",
   "execution_count": 7,
   "metadata": {},
   "outputs": [],
   "source": [
    "es_image = \"docker.elastic.co/elasticsearch/elasticsearch:{}\".format(es_version)\n",
    "es_container = client.containers.run(\n",
    "    es_image,\n",
    "    name=es_container_name,\n",
    "    detach=True,\n",
    "    network=\"elastic\",\n",
    "    ports={\n",
    "        '9200/tcp': '9200',\n",
    "        '9300/tcp': '9300'\n",
    "    },\n",
    "    volumes={\n",
    "        \"{}/elasticsearch/esdata1\".format(docker_root): {\n",
    "            'bind': '/usr/share/elasticsearch/data',\n",
    "            'mode': 'rw'\n",
    "        }\n",
    "    },\n",
    "    environment={\n",
    "        'node.name': socket.gethostname()\n",
    "    },\n",
    "    restart_policy={\n",
    "        'Name': 'unless-stopped'\n",
    "    }\n",
    ")\n"
   ]
  },
  {
   "cell_type": "markdown",
   "metadata": {},
   "source": [
    "## Create Kibana Container\n",
    "This section replicates the function of this docker cli command\n",
    "```bash\n",
    "docker run -d -p 5601:5601 \\\n",
    "--network=elastic \\\n",
    "-e \"ELASTICSEARCH_URL=http://elasticsearch:9200\" \\\n",
    "-v /Users/lou/Documents/kibana/kibana.yml:/usr/share/kibana/config/kibana.yml \\\n",
    "--restart=unless-stopped docker.elastic.co/kibana/kibana:6.3.2\n",
    "```"
   ]
  },
  {
   "cell_type": "code",
   "execution_count": 12,
   "metadata": {},
   "outputs": [],
   "source": [
    "kb_image = \"docker.elastic.co/kibana/kibana:{}\".format(es_version)\n",
    "kb_container = client.containers.run(\n",
    "    kb_image,\n",
    "    detach=True,\n",
    "    network=\"elastic\",\n",
    "    environment={\n",
    "        'ELASTICSEARCH_URL': 'http://{}:9200'.format(es_container_name)\n",
    "    },\n",
    "    restart_policy={\n",
    "        'Name': 'unless-stopped'\n",
    "    },\n",
    "    ports={\n",
    "        '5601/tcp': '5601'\n",
    "    },\n",
    "    volumes={\n",
    "        \"{}/kibana/kibana.yml\".format(docker_root): {\n",
    "            'bind': '/usr/share/kibana/config/kibana.yml',\n",
    "            'mode': 'ro'\n",
    "        }\n",
    "    }\n",
    ")"
   ]
  },
  {
   "cell_type": "markdown",
   "metadata": {},
   "source": [
    "## Shutdown and Clean Up"
   ]
  },
  {
   "cell_type": "code",
   "execution_count": 11,
   "metadata": {},
   "outputs": [],
   "source": [
    "kb_container.stop()\n",
    "kb_container.remove()\n",
    "#es_container.stop()\n",
    "#es_container.remove()\n"
   ]
  },
  {
   "cell_type": "code",
   "execution_count": 14,
   "metadata": {},
   "outputs": [
    {
     "data": {
      "text/plain": [
       "b'{\"type\":\"log\",\"@timestamp\":\"2018-08-20T16:40:16Z\",\"tags\":[\"status\",\"plugin:kibana@6.3.2\",\"info\"],\"pid\":1,\"state\":\"green\",\"message\":\"Status changed from uninitialized to green - Ready\",\"prevState\":\"uninitialized\",\"prevMsg\":\"uninitialized\"}\\n{\"type\":\"log\",\"@timestamp\":\"2018-08-20T16:40:16Z\",\"tags\":[\"status\",\"plugin:elasticsearch@6.3.2\",\"info\"],\"pid\":1,\"state\":\"yellow\",\"message\":\"Status changed from uninitialized to yellow - Waiting for Elasticsearch\",\"prevState\":\"uninitialized\",\"prevMsg\":\"uninitialized\"}\\n{\"type\":\"log\",\"@timestamp\":\"2018-08-20T16:40:16Z\",\"tags\":[\"status\",\"plugin:xpack_main@6.3.2\",\"info\"],\"pid\":1,\"state\":\"yellow\",\"message\":\"Status changed from uninitialized to yellow - Waiting for Elasticsearch\",\"prevState\":\"uninitialized\",\"prevMsg\":\"uninitialized\"}\\n{\"type\":\"log\",\"@timestamp\":\"2018-08-20T16:40:16Z\",\"tags\":[\"status\",\"plugin:searchprofiler@6.3.2\",\"info\"],\"pid\":1,\"state\":\"yellow\",\"message\":\"Status changed from uninitialized to yellow - Waiting for Elasticsearch\",\"prevState\":\"uninitialized\",\"prevMsg\":\"uninitialized\"}\\n{\"type\":\"log\",\"@timestamp\":\"2018-08-20T16:40:16Z\",\"tags\":[\"status\",\"plugin:ml@6.3.2\",\"info\"],\"pid\":1,\"state\":\"yellow\",\"message\":\"Status changed from uninitialized to yellow - Waiting for Elasticsearch\",\"prevState\":\"uninitialized\",\"prevMsg\":\"uninitialized\"}\\n{\"type\":\"log\",\"@timestamp\":\"2018-08-20T16:40:16Z\",\"tags\":[\"status\",\"plugin:tilemap@6.3.2\",\"info\"],\"pid\":1,\"state\":\"yellow\",\"message\":\"Status changed from uninitialized to yellow - Waiting for Elasticsearch\",\"prevState\":\"uninitialized\",\"prevMsg\":\"uninitialized\"}\\n{\"type\":\"log\",\"@timestamp\":\"2018-08-20T16:40:16Z\",\"tags\":[\"status\",\"plugin:watcher@6.3.2\",\"info\"],\"pid\":1,\"state\":\"yellow\",\"message\":\"Status changed from uninitialized to yellow - Waiting for Elasticsearch\",\"prevState\":\"uninitialized\",\"prevMsg\":\"uninitialized\"}\\n{\"type\":\"log\",\"@timestamp\":\"2018-08-20T16:40:16Z\",\"tags\":[\"status\",\"plugin:license_management@6.3.2\",\"info\"],\"pid\":1,\"state\":\"green\",\"message\":\"Status changed from uninitialized to green - Ready\",\"prevState\":\"uninitialized\",\"prevMsg\":\"uninitialized\"}\\n{\"type\":\"log\",\"@timestamp\":\"2018-08-20T16:40:16Z\",\"tags\":[\"status\",\"plugin:index_management@6.3.2\",\"info\"],\"pid\":1,\"state\":\"yellow\",\"message\":\"Status changed from uninitialized to yellow - Waiting for Elasticsearch\",\"prevState\":\"uninitialized\",\"prevMsg\":\"uninitialized\"}\\n{\"type\":\"log\",\"@timestamp\":\"2018-08-20T16:40:16Z\",\"tags\":[\"status\",\"plugin:timelion@6.3.2\",\"info\"],\"pid\":1,\"state\":\"green\",\"message\":\"Status changed from uninitialized to green - Ready\",\"prevState\":\"uninitialized\",\"prevMsg\":\"uninitialized\"}\\n{\"type\":\"log\",\"@timestamp\":\"2018-08-20T16:40:16Z\",\"tags\":[\"status\",\"plugin:graph@6.3.2\",\"info\"],\"pid\":1,\"state\":\"yellow\",\"message\":\"Status changed from uninitialized to yellow - Waiting for Elasticsearch\",\"prevState\":\"uninitialized\",\"prevMsg\":\"uninitialized\"}\\n{\"type\":\"log\",\"@timestamp\":\"2018-08-20T16:40:16Z\",\"tags\":[\"status\",\"plugin:monitoring@6.3.2\",\"info\"],\"pid\":1,\"state\":\"green\",\"message\":\"Status changed from uninitialized to green - Ready\",\"prevState\":\"uninitialized\",\"prevMsg\":\"uninitialized\"}\\n{\"type\":\"log\",\"@timestamp\":\"2018-08-20T16:40:16Z\",\"tags\":[\"status\",\"plugin:security@6.3.2\",\"info\"],\"pid\":1,\"state\":\"yellow\",\"message\":\"Status changed from uninitialized to yellow - Waiting for Elasticsearch\",\"prevState\":\"uninitialized\",\"prevMsg\":\"uninitialized\"}\\n{\"type\":\"log\",\"@timestamp\":\"2018-08-20T16:40:16Z\",\"tags\":[\"security\",\"warning\"],\"pid\":1,\"message\":\"Generating a random key for xpack.security.encryptionKey. To prevent sessions from being invalidated on restart, please set xpack.security.encryptionKey in kibana.yml\"}\\n{\"type\":\"log\",\"@timestamp\":\"2018-08-20T16:40:16Z\",\"tags\":[\"security\",\"warning\"],\"pid\":1,\"message\":\"Session cookies will be transmitted over insecure connections. This is not recommended.\"}\\n{\"type\":\"log\",\"@timestamp\":\"2018-08-20T16:40:16Z\",\"tags\":[\"status\",\"plugin:grokdebugger@6.3.2\",\"info\"],\"pid\":1,\"state\":\"yellow\",\"message\":\"Status changed from uninitialized to yellow - Waiting for Elasticsearch\",\"prevState\":\"uninitialized\",\"prevMsg\":\"uninitialized\"}\\n{\"type\":\"log\",\"@timestamp\":\"2018-08-20T16:40:16Z\",\"tags\":[\"status\",\"plugin:dashboard_mode@6.3.2\",\"info\"],\"pid\":1,\"state\":\"green\",\"message\":\"Status changed from uninitialized to green - Ready\",\"prevState\":\"uninitialized\",\"prevMsg\":\"uninitialized\"}\\n{\"type\":\"log\",\"@timestamp\":\"2018-08-20T16:40:16Z\",\"tags\":[\"status\",\"plugin:logstash@6.3.2\",\"info\"],\"pid\":1,\"state\":\"yellow\",\"message\":\"Status changed from uninitialized to yellow - Waiting for Elasticsearch\",\"prevState\":\"uninitialized\",\"prevMsg\":\"uninitialized\"}\\n{\"type\":\"log\",\"@timestamp\":\"2018-08-20T16:40:16Z\",\"tags\":[\"status\",\"plugin:apm@6.3.2\",\"info\"],\"pid\":1,\"state\":\"green\",\"message\":\"Status changed from uninitialized to green - Ready\",\"prevState\":\"uninitialized\",\"prevMsg\":\"uninitialized\"}\\n{\"type\":\"log\",\"@timestamp\":\"2018-08-20T16:40:16Z\",\"tags\":[\"status\",\"plugin:console@6.3.2\",\"info\"],\"pid\":1,\"state\":\"green\",\"message\":\"Status changed from uninitialized to green - Ready\",\"prevState\":\"uninitialized\",\"prevMsg\":\"uninitialized\"}\\n{\"type\":\"log\",\"@timestamp\":\"2018-08-20T16:40:16Z\",\"tags\":[\"status\",\"plugin:console_extensions@6.3.2\",\"info\"],\"pid\":1,\"state\":\"green\",\"message\":\"Status changed from uninitialized to green - Ready\",\"prevState\":\"uninitialized\",\"prevMsg\":\"uninitialized\"}\\n{\"type\":\"log\",\"@timestamp\":\"2018-08-20T16:40:16Z\",\"tags\":[\"status\",\"plugin:metrics@6.3.2\",\"info\"],\"pid\":1,\"state\":\"green\",\"message\":\"Status changed from uninitialized to green - Ready\",\"prevState\":\"uninitialized\",\"prevMsg\":\"uninitialized\"}\\n{\"type\":\"log\",\"@timestamp\":\"2018-08-20T16:40:17Z\",\"tags\":[\"reporting\",\"warning\"],\"pid\":1,\"message\":\"Generating a random key for xpack.reporting.encryptionKey. To prevent pending reports from failing on restart, please set xpack.reporting.encryptionKey in kibana.yml\"}\\n{\"type\":\"log\",\"@timestamp\":\"2018-08-20T16:40:17Z\",\"tags\":[\"status\",\"plugin:reporting@6.3.2\",\"info\"],\"pid\":1,\"state\":\"yellow\",\"message\":\"Status changed from uninitialized to yellow - Waiting for Elasticsearch\",\"prevState\":\"uninitialized\",\"prevMsg\":\"uninitialized\"}\\n{\"type\":\"log\",\"@timestamp\":\"2018-08-20T16:40:17Z\",\"tags\":[\"status\",\"plugin:elasticsearch@6.3.2\",\"info\"],\"pid\":1,\"state\":\"green\",\"message\":\"Status changed from yellow to green - Ready\",\"prevState\":\"yellow\",\"prevMsg\":\"Waiting for Elasticsearch\"}\\n{\"type\":\"log\",\"@timestamp\":\"2018-08-20T16:40:17Z\",\"tags\":[\"license\",\"info\",\"xpack\"],\"pid\":1,\"message\":\"Imported license information from Elasticsearch for the [data] cluster: mode: basic | status: active\"}\\n{\"type\":\"log\",\"@timestamp\":\"2018-08-20T16:40:17Z\",\"tags\":[\"status\",\"plugin:xpack_main@6.3.2\",\"info\"],\"pid\":1,\"state\":\"green\",\"message\":\"Status changed from yellow to green - Ready\",\"prevState\":\"yellow\",\"prevMsg\":\"Waiting for Elasticsearch\"}\\n{\"type\":\"log\",\"@timestamp\":\"2018-08-20T16:40:17Z\",\"tags\":[\"status\",\"plugin:searchprofiler@6.3.2\",\"info\"],\"pid\":1,\"state\":\"green\",\"message\":\"Status changed from yellow to green - Ready\",\"prevState\":\"yellow\",\"prevMsg\":\"Waiting for Elasticsearch\"}\\n{\"type\":\"log\",\"@timestamp\":\"2018-08-20T16:40:17Z\",\"tags\":[\"status\",\"plugin:ml@6.3.2\",\"info\"],\"pid\":1,\"state\":\"green\",\"message\":\"Status changed from yellow to green - Ready\",\"prevState\":\"yellow\",\"prevMsg\":\"Waiting for Elasticsearch\"}\\n{\"type\":\"log\",\"@timestamp\":\"2018-08-20T16:40:17Z\",\"tags\":[\"status\",\"plugin:tilemap@6.3.2\",\"info\"],\"pid\":1,\"state\":\"green\",\"message\":\"Status changed from yellow to green - Ready\",\"prevState\":\"yellow\",\"prevMsg\":\"Waiting for Elasticsearch\"}\\n{\"type\":\"log\",\"@timestamp\":\"2018-08-20T16:40:17Z\",\"tags\":[\"status\",\"plugin:watcher@6.3.2\",\"info\"],\"pid\":1,\"state\":\"green\",\"message\":\"Status changed from yellow to green - Ready\",\"prevState\":\"yellow\",\"prevMsg\":\"Waiting for Elasticsearch\"}\\n{\"type\":\"log\",\"@timestamp\":\"2018-08-20T16:40:17Z\",\"tags\":[\"status\",\"plugin:index_management@6.3.2\",\"info\"],\"pid\":1,\"state\":\"green\",\"message\":\"Status changed from yellow to green - Ready\",\"prevState\":\"yellow\",\"prevMsg\":\"Waiting for Elasticsearch\"}\\n{\"type\":\"log\",\"@timestamp\":\"2018-08-20T16:40:17Z\",\"tags\":[\"status\",\"plugin:graph@6.3.2\",\"info\"],\"pid\":1,\"state\":\"green\",\"message\":\"Status changed from yellow to green - Ready\",\"prevState\":\"yellow\",\"prevMsg\":\"Waiting for Elasticsearch\"}\\n{\"type\":\"log\",\"@timestamp\":\"2018-08-20T16:40:17Z\",\"tags\":[\"status\",\"plugin:security@6.3.2\",\"info\"],\"pid\":1,\"state\":\"green\",\"message\":\"Status changed from yellow to green - Ready\",\"prevState\":\"yellow\",\"prevMsg\":\"Waiting for Elasticsearch\"}\\n{\"type\":\"log\",\"@timestamp\":\"2018-08-20T16:40:17Z\",\"tags\":[\"status\",\"plugin:grokdebugger@6.3.2\",\"info\"],\"pid\":1,\"state\":\"green\",\"message\":\"Status changed from yellow to green - Ready\",\"prevState\":\"yellow\",\"prevMsg\":\"Waiting for Elasticsearch\"}\\n{\"type\":\"log\",\"@timestamp\":\"2018-08-20T16:40:17Z\",\"tags\":[\"status\",\"plugin:logstash@6.3.2\",\"info\"],\"pid\":1,\"state\":\"green\",\"message\":\"Status changed from yellow to green - Ready\",\"prevState\":\"yellow\",\"prevMsg\":\"Waiting for Elasticsearch\"}\\n{\"type\":\"log\",\"@timestamp\":\"2018-08-20T16:40:17Z\",\"tags\":[\"status\",\"plugin:reporting@6.3.2\",\"info\"],\"pid\":1,\"state\":\"green\",\"message\":\"Status changed from yellow to green - Ready\",\"prevState\":\"yellow\",\"prevMsg\":\"Waiting for Elasticsearch\"}\\n{\"type\":\"log\",\"@timestamp\":\"2018-08-20T16:40:17Z\",\"tags\":[\"info\",\"monitoring-ui\",\"kibana-monitoring\"],\"pid\":1,\"message\":\"Starting all Kibana monitoring collectors\"}\\n{\"type\":\"log\",\"@timestamp\":\"2018-08-20T16:40:17Z\",\"tags\":[\"license\",\"info\",\"xpack\"],\"pid\":1,\"message\":\"Imported license information from Elasticsearch for the [monitoring] cluster: mode: basic | status: active\"}\\n{\"type\":\"log\",\"@timestamp\":\"2018-08-20T16:40:31Z\",\"tags\":[\"listening\",\"info\"],\"pid\":1,\"message\":\"Server running at http://0.0.0.0:5601\"}\\n'"
      ]
     },
     "execution_count": 14,
     "metadata": {},
     "output_type": "execute_result"
    }
   ],
   "source": [
    "kb_container.logs()"
   ]
  },
  {
   "cell_type": "code",
   "execution_count": null,
   "metadata": {},
   "outputs": [],
   "source": []
  }
 ],
 "metadata": {
  "kernelspec": {
   "display_name": "Python 3",
   "language": "python",
   "name": "python3"
  },
  "language_info": {
   "codemirror_mode": {
    "name": "ipython",
    "version": 3
   },
   "file_extension": ".py",
   "mimetype": "text/x-python",
   "name": "python",
   "nbconvert_exporter": "python",
   "pygments_lexer": "ipython3",
   "version": "3.6.5"
  }
 },
 "nbformat": 4,
 "nbformat_minor": 2
}
